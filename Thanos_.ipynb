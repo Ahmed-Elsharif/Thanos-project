{
 "cells": [
  {
   "cell_type": "markdown",
   "metadata": {},
   "source": [
    "<img src=\"thanos.jpg\">"
   ]
  },
  {
   "cell_type": "markdown",
   "metadata": {},
   "source": [
    "# Thanos Project\n",
    "\n",
    "##### Thanos has aqcuired the infinity gauntlet, and with one snap of his fingers he will kill half the people in the universe. For this project, you need to create the following functions:\n",
    "\n",
    "1. `get_universe_people`: This function returns a list of the name of the people (files) in `universe` folder\n",
    "2. `kill_person`: This function takes as input the name of the person (file) and kills them (deletes it) \n",
    "3. `thanos_snap`: This function calculates the number of the people (files) in the `universe` folder and kills them (deletes them)\n",
    "\n",
    "Test your functions using the necessary code and run the thanos snap. Validate that half the population is dead!"
   ]
  },
  {
   "cell_type": "code",
   "execution_count": 26,
   "metadata": {},
   "outputs": [],
   "source": [
    "import os\n",
    "import random\n",
    "import time"
   ]
  },
  {
   "cell_type": "code",
   "execution_count": 27,
   "metadata": {},
   "outputs": [],
   "source": [
    "def get_universe_people (universe_folder='parallel_backup'):\n",
    "    people= os.listdir(universe_folder)\n",
    "    return people"
   ]
  },
  {
   "cell_type": "code",
   "execution_count": 28,
   "metadata": {},
   "outputs": [],
   "source": [
    "def kill_person(name,universe_folder='parallel_backup'):\n",
    "    print('killing: ', name)\n",
    "    os.remove(f\"{universe_folder}/{name}\")"
   ]
  },
  {
   "cell_type": "code",
   "execution_count": 29,
   "metadata": {},
   "outputs": [],
   "source": [
    "universe =get_universe_people()"
   ]
  },
  {
   "cell_type": "code",
   "execution_count": 30,
   "metadata": {},
   "outputs": [],
   "source": [
    "def thanos_snap ():\n",
    "    universe = get_universe_people()\n",
    "    half_universe = len(universe)//2\n",
    "    for i in range(half_universe):\n",
    "        random_victiom = random.choice ( universe)\n",
    "        kill_person(random_victiom)\n",
    "        universe .remove (random_victiom)\n",
    "        time.sleep(1)\n",
    "    print('perfectly balanced , as all things should be')    "
   ]
  },
  {
   "cell_type": "code",
   "execution_count": 31,
   "metadata": {},
   "outputs": [
    {
     "name": "stdout",
     "output_type": "stream",
     "text": [
      "killing:  Kevin Hart.jpg\n",
      "killing:  Johnny Depp.jpg\n",
      "killing:  Jeff Bezos.jpg\n",
      "killing:  Will Smith.jpg\n",
      "killing:  Kate Upton.jpg\n",
      "killing:  Keanu Reeves.jpg\n",
      "killing:  Michael Jordan.jpg\n",
      "killing:  Ariana Grande.jpeg\n",
      "killing:  Jerry Seinfeld.jpg\n",
      "killing:  Bruce Lee.jpg\n",
      "killing:  Adam Sandler.jpg\n",
      "killing:  Elton John.jpg\n",
      "perfectly balanced , as all things should be\n"
     ]
    }
   ],
   "source": [
    "thanos_snap()"
   ]
  },
  {
   "cell_type": "code",
   "execution_count": null,
   "metadata": {},
   "outputs": [],
   "source": []
  }
 ],
 "metadata": {
  "interpreter": {
   "hash": "911cfdf4ee29fcb964d36255e478fd122ddd7ef148a5798ecfb832de08390f17"
  },
  "kernelspec": {
   "display_name": "Python 3.9.6 64-bit",
   "language": "python",
   "name": "python3"
  },
  "language_info": {
   "codemirror_mode": {
    "name": "ipython",
    "version": 3
   },
   "file_extension": ".py",
   "mimetype": "text/x-python",
   "name": "python",
   "nbconvert_exporter": "python",
   "pygments_lexer": "ipython3",
   "version": "3.10.9"
  },
  "orig_nbformat": 4
 },
 "nbformat": 4,
 "nbformat_minor": 2
}
